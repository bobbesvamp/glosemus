{
 "cells": [
  {
   "cell_type": "code",
   "execution_count": 15,
   "metadata": {},
   "outputs": [
    {
     "name": "stdout",
     "output_type": "stream",
     "text": [
      "Hei og hallo \n",
      "Hei15.0\n"
     ]
    }
   ],
   "source": [
    "bang = 15.0\n",
    "print(f\"Hei og hallo \\nHei{bang}\")\n",
    "\n",
    "import ipywidgets\n",
    "\n",
    "tt = ipywidgets.Text(\n",
    "    placeholder='Enter you name',\n",
    "    description='Name:'\n",
    "    )\n",
    "\n",
    "tt."
   ]
  },
  {
   "cell_type": "code",
   "execution_count": 1,
   "metadata": {},
   "outputs": [
    {
     "name": "stdout",
     "output_type": "stream",
     "text": [
      "{'food': 'mat', 'hei': 'hi', 'fisk': 'fish'}\n",
      "Riktig, rett og bra!\n",
      "Nei, og fy, det skulle være hi\n",
      "Nei, og fy, det skulle være fish\n"
     ]
    }
   ],
   "source": [
    "o = {}\n",
    "o['food'] = 'mat'\n",
    "o['hei'] = 'hi'\n",
    "o['fisk'] = 'fish'\n",
    "\n",
    "print(o)\n",
    "\n",
    "for i in o:\n",
    "    svar = input(f\"Hva er svaret på {i}?\")\n",
    "    if svar == o[i]:\n",
    "        print(\"Riktig, rett og bra!\")\n",
    "    else:\n",
    "        print(f\"Nei, og fy, det skulle være {o[i]}\")"
   ]
  },
  {
   "cell_type": "code",
   "execution_count": 7,
   "metadata": {},
   "outputs": [
    {
     "data": {
      "text/plain": [
       "{'food': 'mat', 'hei': 'hi', 'fisk': 'fish'}"
      ]
     },
     "execution_count": 7,
     "metadata": {},
     "output_type": "execute_result"
    }
   ],
   "source": [
    "o"
   ]
  },
  {
   "cell_type": "code",
   "execution_count": 15,
   "metadata": {},
   "outputs": [],
   "source": [
    "#fh = open(\"tull.glo\", \"wt\")\n",
    "#for oppgave in o:\n",
    "#    fh.write(f\"{oppgave}|{o[oppgave]}\\n\")\n",
    "#fh.close()\n",
    "\n",
    "filnavn = \"tull.glo\"\n",
    "\n",
    "with open(filnavn, \"wt\") as fh:\n",
    "    for oppgave in o:\n",
    "        fh.write(f\"{oppgave}|{o[oppgave]}\\n\")\n"
   ]
  },
  {
   "cell_type": "code",
   "execution_count": 18,
   "metadata": {},
   "outputs": [
    {
     "name": "stdout",
     "output_type": "stream",
     "text": [
      "Leste : food med svar mat\n",
      "Leste : hei med svar hi\n",
      "Leste : fisk med svar fish\n",
      "{'food': 'mat', 'hei': 'hi', 'fisk': 'fish'}\n"
     ]
    }
   ],
   "source": [
    "qna = {}\n",
    "with open(filnavn, \"rt\") as fh:\n",
    "    for linje in fh:\n",
    "        oppgave, svar = linje.strip().split(\"|\")\n",
    "        qna[oppgave] = svar\n",
    "        print(f\"Leste : {oppgave} med svar {svar}\")\n",
    "\n",
    "print(qna)\n"
   ]
  }
 ],
 "metadata": {
  "kernelspec": {
   "display_name": "Python 3",
   "language": "python",
   "name": "python3"
  },
  "language_info": {
   "codemirror_mode": {
    "name": "ipython",
    "version": 3
   },
   "file_extension": ".py",
   "mimetype": "text/x-python",
   "name": "python",
   "nbconvert_exporter": "python",
   "pygments_lexer": "ipython3",
   "version": "3.10.6"
  },
  "orig_nbformat": 4,
  "vscode": {
   "interpreter": {
    "hash": "916dbcbb3f70747c44a77c7bcd40155683ae19c65e1c03b4aa3499c5328201f1"
   }
  }
 },
 "nbformat": 4,
 "nbformat_minor": 2
}
